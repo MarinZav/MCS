{
 "cells": [
  {
   "attachments": {},
   "cell_type": "markdown",
   "metadata": {},
   "source": [
    "Preprocesamiento de datos"
   ]
  },
  {
   "cell_type": "code",
   "execution_count": 44,
   "metadata": {},
   "outputs": [],
   "source": [
    "### importacion de librerias\n",
    "\n",
    "import pandas as pd\n",
    "import numpy as np\n",
    "import matplotlib.pyplot as plt\n",
    "\n",
    "from sklearn.preprocessing import OrdinalEncoder\n",
    "from sklearn.metrics import f1_score\n",
    "from sklearn.model_selection import train_test_split\n",
    "from sklearn.linear_model import LogisticRegression\n",
    "from sklearn.ensemble import RandomForestClassifier\n",
    "from sklearn.preprocessing import StandardScaler\n",
    "from sklearn.tree import DecisionTreeClassifier\n",
    "from sklearn.metrics import accuracy_score\n",
    "\n",
    "from sklearn.utils import shuffle\n",
    "from sklearn.metrics import mean_squared_error\n",
    "from sklearn.metrics import roc_curve\n",
    "from sklearn.metrics import roc_auc_score \n",
    "from sklearn.metrics import r2_score"
   ]
  },
  {
   "cell_type": "code",
   "execution_count": 45,
   "metadata": {},
   "outputs": [],
   "source": [
    "# carga de datos\n",
    "\n",
    "try:\n",
    "    data = pd.read_csv('/datasets/data.csv')\n",
    "except:\n",
    "    data = pd.read_csv('datasets/data.csv')"
   ]
  },
  {
   "cell_type": "code",
   "execution_count": 46,
   "metadata": {},
   "outputs": [],
   "source": [
    "# Configura pandas para mostrar el contenido completo de las filas\n",
    "pd.set_option('display.max_colwidth', None)"
   ]
  },
  {
   "cell_type": "code",
   "execution_count": 47,
   "metadata": {},
   "outputs": [],
   "source": [
    "data = data.rename(columns={'jobTitle':'job_title',\n",
    "                            'perfEval':'perf_eval',\n",
    "                            'basePay':'base_pay'})"
   ]
  },
  {
   "cell_type": "code",
   "execution_count": 48,
   "metadata": {},
   "outputs": [],
   "source": [
    "# creamos una columna nueva con el salario total\n",
    "\n",
    "data['total_salary'] = data['base_pay'] + data['bonus']"
   ]
  },
  {
   "cell_type": "code",
   "execution_count": 49,
   "metadata": {},
   "outputs": [],
   "source": [
    "# función que calcule la categoría de edad\n",
    "\n",
    "def assing_age_range(age):\n",
    "    if age < 0 or pd.isna(age):\n",
    "        return 'NA'\n",
    "    elif age < 20:\n",
    "        return '0-19'\n",
    "    elif age < 40:\n",
    "        return '20-39'\n",
    "    elif age < 60:\n",
    "        return '40-59'\n",
    "    elif age >= 60:\n",
    "        return '60+'\n"
   ]
  },
  {
   "cell_type": "code",
   "execution_count": 50,
   "metadata": {},
   "outputs": [],
   "source": [
    "# función que calcule la categoría de ingresos\n",
    "\n",
    "def total_salary_range(salary):\n",
    "    if salary < 40000 or pd.isna(salary):\n",
    "        return '< 40,000'\n",
    "    elif salary < 80001:\n",
    "        return '40,000-80,000'\n",
    "    elif salary < 120001:\n",
    "        return '80,001-120,000'\n",
    "    elif salary < 160001:\n",
    "        return '120,001-160,000'\n",
    "    elif salary >= 160001:\n",
    "        return '> 160,000'"
   ]
  },
  {
   "cell_type": "code",
   "execution_count": 51,
   "metadata": {},
   "outputs": [],
   "source": [
    "# funcion variable objetivo\n",
    "\n",
    "\n",
    "def variblae_objetivo(salary):\n",
    "    if salary < 110000 or pd.isna(salary):\n",
    "        return 0\n",
    "    elif salary >= 110000:\n",
    "        return 1\n"
   ]
  },
  {
   "cell_type": "code",
   "execution_count": 52,
   "metadata": {},
   "outputs": [],
   "source": [
    "data['total_salary_range'] = data['total_salary'].apply(total_salary_range)\n",
    "\n",
    "data['age_group'] = data['age'].apply(assing_age_range)\n",
    "\n",
    "data['salary_110k'] = data['total_salary'].apply(variblae_objetivo)"
   ]
  },
  {
   "cell_type": "code",
   "execution_count": 53,
   "metadata": {},
   "outputs": [
    {
     "data": {
      "text/html": [
       "<div>\n",
       "<style scoped>\n",
       "    .dataframe tbody tr th:only-of-type {\n",
       "        vertical-align: middle;\n",
       "    }\n",
       "\n",
       "    .dataframe tbody tr th {\n",
       "        vertical-align: top;\n",
       "    }\n",
       "\n",
       "    .dataframe thead th {\n",
       "        text-align: right;\n",
       "    }\n",
       "</style>\n",
       "<table border=\"1\" class=\"dataframe\">\n",
       "  <thead>\n",
       "    <tr style=\"text-align: right;\">\n",
       "      <th></th>\n",
       "      <th>job_title</th>\n",
       "      <th>gender</th>\n",
       "      <th>age</th>\n",
       "      <th>perf_eval</th>\n",
       "      <th>edu</th>\n",
       "      <th>dept</th>\n",
       "      <th>seniority</th>\n",
       "      <th>base_pay</th>\n",
       "      <th>bonus</th>\n",
       "      <th>total_salary</th>\n",
       "      <th>total_salary_range</th>\n",
       "      <th>age_group</th>\n",
       "      <th>salary_110k</th>\n",
       "    </tr>\n",
       "  </thead>\n",
       "  <tbody>\n",
       "    <tr>\n",
       "      <th>0</th>\n",
       "      <td>Graphic Designer</td>\n",
       "      <td>Female</td>\n",
       "      <td>18</td>\n",
       "      <td>5</td>\n",
       "      <td>College</td>\n",
       "      <td>Operations</td>\n",
       "      <td>2</td>\n",
       "      <td>42363</td>\n",
       "      <td>9938</td>\n",
       "      <td>52301</td>\n",
       "      <td>40,000-80,000</td>\n",
       "      <td>0-19</td>\n",
       "      <td>0</td>\n",
       "    </tr>\n",
       "    <tr>\n",
       "      <th>1</th>\n",
       "      <td>Software Engineer</td>\n",
       "      <td>Male</td>\n",
       "      <td>21</td>\n",
       "      <td>5</td>\n",
       "      <td>College</td>\n",
       "      <td>Management</td>\n",
       "      <td>5</td>\n",
       "      <td>108476</td>\n",
       "      <td>11128</td>\n",
       "      <td>119604</td>\n",
       "      <td>80,001-120,000</td>\n",
       "      <td>20-39</td>\n",
       "      <td>1</td>\n",
       "    </tr>\n",
       "    <tr>\n",
       "      <th>2</th>\n",
       "      <td>Warehouse Associate</td>\n",
       "      <td>Female</td>\n",
       "      <td>19</td>\n",
       "      <td>4</td>\n",
       "      <td>PhD</td>\n",
       "      <td>Administration</td>\n",
       "      <td>5</td>\n",
       "      <td>90208</td>\n",
       "      <td>9268</td>\n",
       "      <td>99476</td>\n",
       "      <td>80,001-120,000</td>\n",
       "      <td>0-19</td>\n",
       "      <td>0</td>\n",
       "    </tr>\n",
       "    <tr>\n",
       "      <th>3</th>\n",
       "      <td>Software Engineer</td>\n",
       "      <td>Male</td>\n",
       "      <td>20</td>\n",
       "      <td>5</td>\n",
       "      <td>Masters</td>\n",
       "      <td>Sales</td>\n",
       "      <td>4</td>\n",
       "      <td>108080</td>\n",
       "      <td>10154</td>\n",
       "      <td>118234</td>\n",
       "      <td>80,001-120,000</td>\n",
       "      <td>20-39</td>\n",
       "      <td>1</td>\n",
       "    </tr>\n",
       "    <tr>\n",
       "      <th>4</th>\n",
       "      <td>Graphic Designer</td>\n",
       "      <td>Male</td>\n",
       "      <td>26</td>\n",
       "      <td>5</td>\n",
       "      <td>Masters</td>\n",
       "      <td>Engineering</td>\n",
       "      <td>5</td>\n",
       "      <td>99464</td>\n",
       "      <td>9319</td>\n",
       "      <td>108783</td>\n",
       "      <td>80,001-120,000</td>\n",
       "      <td>20-39</td>\n",
       "      <td>0</td>\n",
       "    </tr>\n",
       "  </tbody>\n",
       "</table>\n",
       "</div>"
      ],
      "text/plain": [
       "             job_title  gender  age  perf_eval      edu            dept  \\\n",
       "0     Graphic Designer  Female   18          5  College      Operations   \n",
       "1    Software Engineer    Male   21          5  College      Management   \n",
       "2  Warehouse Associate  Female   19          4      PhD  Administration   \n",
       "3    Software Engineer    Male   20          5  Masters           Sales   \n",
       "4     Graphic Designer    Male   26          5  Masters     Engineering   \n",
       "\n",
       "   seniority  base_pay  bonus  total_salary total_salary_range age_group  \\\n",
       "0          2     42363   9938         52301      40,000-80,000      0-19   \n",
       "1          5    108476  11128        119604     80,001-120,000     20-39   \n",
       "2          5     90208   9268         99476     80,001-120,000      0-19   \n",
       "3          4    108080  10154        118234     80,001-120,000     20-39   \n",
       "4          5     99464   9319        108783     80,001-120,000     20-39   \n",
       "\n",
       "   salary_110k  \n",
       "0            0  \n",
       "1            1  \n",
       "2            0  \n",
       "3            1  \n",
       "4            0  "
      ]
     },
     "execution_count": 53,
     "metadata": {},
     "output_type": "execute_result"
    }
   ],
   "source": [
    "data.head()"
   ]
  },
  {
   "cell_type": "code",
   "execution_count": 54,
   "metadata": {},
   "outputs": [],
   "source": [
    "testisng_df = (\n",
    "    data\n",
    "    .drop(columns={'age','base_pay','bonus','total_salary'})\n",
    ")"
   ]
  },
  {
   "cell_type": "code",
   "execution_count": 55,
   "metadata": {},
   "outputs": [
    {
     "data": {
      "text/html": [
       "<div>\n",
       "<style scoped>\n",
       "    .dataframe tbody tr th:only-of-type {\n",
       "        vertical-align: middle;\n",
       "    }\n",
       "\n",
       "    .dataframe tbody tr th {\n",
       "        vertical-align: top;\n",
       "    }\n",
       "\n",
       "    .dataframe thead th {\n",
       "        text-align: right;\n",
       "    }\n",
       "</style>\n",
       "<table border=\"1\" class=\"dataframe\">\n",
       "  <thead>\n",
       "    <tr style=\"text-align: right;\">\n",
       "      <th></th>\n",
       "      <th>job_title</th>\n",
       "      <th>gender</th>\n",
       "      <th>perf_eval</th>\n",
       "      <th>edu</th>\n",
       "      <th>dept</th>\n",
       "      <th>seniority</th>\n",
       "      <th>total_salary_range</th>\n",
       "      <th>age_group</th>\n",
       "      <th>salary_110k</th>\n",
       "    </tr>\n",
       "  </thead>\n",
       "  <tbody>\n",
       "    <tr>\n",
       "      <th>0</th>\n",
       "      <td>Graphic Designer</td>\n",
       "      <td>Female</td>\n",
       "      <td>5</td>\n",
       "      <td>College</td>\n",
       "      <td>Operations</td>\n",
       "      <td>2</td>\n",
       "      <td>40,000-80,000</td>\n",
       "      <td>0-19</td>\n",
       "      <td>0</td>\n",
       "    </tr>\n",
       "    <tr>\n",
       "      <th>1</th>\n",
       "      <td>Software Engineer</td>\n",
       "      <td>Male</td>\n",
       "      <td>5</td>\n",
       "      <td>College</td>\n",
       "      <td>Management</td>\n",
       "      <td>5</td>\n",
       "      <td>80,001-120,000</td>\n",
       "      <td>20-39</td>\n",
       "      <td>1</td>\n",
       "    </tr>\n",
       "    <tr>\n",
       "      <th>2</th>\n",
       "      <td>Warehouse Associate</td>\n",
       "      <td>Female</td>\n",
       "      <td>4</td>\n",
       "      <td>PhD</td>\n",
       "      <td>Administration</td>\n",
       "      <td>5</td>\n",
       "      <td>80,001-120,000</td>\n",
       "      <td>0-19</td>\n",
       "      <td>0</td>\n",
       "    </tr>\n",
       "    <tr>\n",
       "      <th>3</th>\n",
       "      <td>Software Engineer</td>\n",
       "      <td>Male</td>\n",
       "      <td>5</td>\n",
       "      <td>Masters</td>\n",
       "      <td>Sales</td>\n",
       "      <td>4</td>\n",
       "      <td>80,001-120,000</td>\n",
       "      <td>20-39</td>\n",
       "      <td>1</td>\n",
       "    </tr>\n",
       "    <tr>\n",
       "      <th>4</th>\n",
       "      <td>Graphic Designer</td>\n",
       "      <td>Male</td>\n",
       "      <td>5</td>\n",
       "      <td>Masters</td>\n",
       "      <td>Engineering</td>\n",
       "      <td>5</td>\n",
       "      <td>80,001-120,000</td>\n",
       "      <td>20-39</td>\n",
       "      <td>0</td>\n",
       "    </tr>\n",
       "  </tbody>\n",
       "</table>\n",
       "</div>"
      ],
      "text/plain": [
       "             job_title  gender  perf_eval      edu            dept  seniority  \\\n",
       "0     Graphic Designer  Female          5  College      Operations          2   \n",
       "1    Software Engineer    Male          5  College      Management          5   \n",
       "2  Warehouse Associate  Female          4      PhD  Administration          5   \n",
       "3    Software Engineer    Male          5  Masters           Sales          4   \n",
       "4     Graphic Designer    Male          5  Masters     Engineering          5   \n",
       "\n",
       "  total_salary_range age_group  salary_110k  \n",
       "0      40,000-80,000      0-19            0  \n",
       "1     80,001-120,000     20-39            1  \n",
       "2     80,001-120,000      0-19            0  \n",
       "3     80,001-120,000     20-39            1  \n",
       "4     80,001-120,000     20-39            0  "
      ]
     },
     "execution_count": 55,
     "metadata": {},
     "output_type": "execute_result"
    }
   ],
   "source": [
    "testisng_df.head()"
   ]
  },
  {
   "attachments": {},
   "cell_type": "markdown",
   "metadata": {},
   "source": [
    "### Codificacion de etiquetas\n",
    "\n",
    "En este apartado vamos a condificar las etiquetas, esto debido a que un modelo de ML no puede procesar datos que sean calitativos pero tampoco podemos eliminarlos por lo que debemos de codificarlos.\n",
    "\n",
    "Por ejemplo con la variable de sexo vamos a transformar\n",
    "\n",
    "- 'femenino' a '0'\n",
    "- 'masculino' a '1'\n",
    "- 'otros' a '2'\n",
    "\n",
    "de esta manera el algorithmo podra realizar los calculos mantematicos. "
   ]
  },
  {
   "cell_type": "code",
   "execution_count": 56,
   "metadata": {},
   "outputs": [
    {
     "name": "stdout",
     "output_type": "stream",
     "text": [
      "   job_title  gender  perf_eval  edu  dept  seniority  total_salary_range  \\\n",
      "0        3.0     0.0        4.0  0.0   3.0        1.0                 1.0   \n",
      "1        8.0     1.0        4.0  0.0   2.0        4.0                 2.0   \n",
      "2        9.0     0.0        3.0  3.0   0.0        4.0                 2.0   \n",
      "3        8.0     1.0        4.0  2.0   4.0        3.0                 2.0   \n",
      "4        3.0     1.0        4.0  2.0   1.0        4.0                 2.0   \n",
      "\n",
      "   age_group  salary_110k  \n",
      "0        0.0          0.0  \n",
      "1        1.0          1.0  \n",
      "2        0.0          0.0  \n",
      "3        1.0          1.0  \n",
      "4        1.0          0.0  \n"
     ]
    }
   ],
   "source": [
    "encoder = OrdinalEncoder()\n",
    "\n",
    "encoder.fit(testisng_df) \n",
    "\n",
    "data_ordinal = pd.DataFrame(encoder.fit_transform(testisng_df), \n",
    "                                                      columns=testisng_df.columns)\n",
    "\n",
    "print(data_ordinal.head())"
   ]
  },
  {
   "attachments": {},
   "cell_type": "markdown",
   "metadata": {},
   "source": [
    "### Dividir los datos en conjuntos\n",
    "\n",
    "En esta parte vamos a dividir los conjutnos de datos en `features` donde eliminaremos todo aquello que no sea una caracteristica y `target` donde unicamente utilizaremos la columna exited donde tendremos la variable objetivo.\n",
    "\n",
    "Despues dividiremos los sets en 3 partes:\n",
    "\n",
    "- Entrenamiento (`train`): 60%\n",
    "- Validacion (`Val`): 20%\n",
    "- Testeo (`test`): 20%\n",
    "\n",
    "de esta manera podremos hacer las pruebas necesarias en los modelos de ML y validar poder nuestros resultados. "
   ]
  },
  {
   "cell_type": "code",
   "execution_count": 57,
   "metadata": {},
   "outputs": [],
   "source": [
    "# Segementamos los datos en un conjunto de entrenamiento, uno de validacion y otro de prueba \n",
    "\n",
    "features = data_ordinal.drop(columns=['salary_110k'])\n",
    "target = data_ordinal['salary_110k']\n",
    "\n",
    "# Dividir en conjunto de entrenamiento y prueba\n",
    "features_train, features_test, target_train, target_test = train_test_split(\n",
    "    features, target, test_size=0.2, random_state=0)\n",
    "\n",
    "# Dividir en conjunto de entrenamiento y validación\n",
    "features_train, features_val, target_train, target_val = train_test_split(\n",
    "    features_train, target_train, test_size=0.25, random_state=0) "
   ]
  },
  {
   "attachments": {},
   "cell_type": "markdown",
   "metadata": {},
   "source": [
    "### Escalado de caracteristicas\n",
    "\n",
    "El escalado de caracteristicas consiste en darle un mismo pero sin importar el numero que represente, en otras palabras equilibrar las columnas para que si en balance el cliente tiene `100,000` el modelo no represente que es mas importante que una edad de `24` solo porque sea un numero mas grande."
   ]
  },
  {
   "cell_type": "code",
   "execution_count": 58,
   "metadata": {},
   "outputs": [
    {
     "name": "stdout",
     "output_type": "stream",
     "text": [
      "     job_title    gender  perf_eval  edu      dept  seniority  \\\n",
      "787  -0.509126 -1.094442        0.0  1.0  0.653642        4.0   \n",
      "683  -0.509126  0.913708        2.0  1.0 -0.046689        2.0   \n",
      "616   0.549104 -1.094442        2.0  2.0  1.353973        2.0   \n",
      "691  -0.156383 -1.094442        1.0  0.0  1.353973        2.0   \n",
      "972   1.607333  0.913708        0.0  1.0  0.653642        1.0   \n",
      "\n",
      "     total_salary_range  age_group  \n",
      "787                 2.0        2.0  \n",
      "683                 2.0        2.0  \n",
      "616                 2.0        2.0  \n",
      "691                 2.0        1.0  \n",
      "972                 2.0        3.0  \n"
     ]
    }
   ],
   "source": [
    "numeric = ['job_title', 'gender', 'dept']\n",
    "\n",
    "scaler = StandardScaler()\n",
    "scaler.fit(features_train[numeric])\n",
    "\n",
    "features_train[numeric] = scaler.transform(features_train[numeric])\n",
    "features_val[numeric] = scaler.transform(features_val[numeric])\n",
    "features_test[numeric] = scaler.transform(features_test[numeric])\n",
    "\n",
    "print(features_train.head()) "
   ]
  },
  {
   "attachments": {},
   "cell_type": "markdown",
   "metadata": {},
   "source": [
    "### Realizar el entrenamiento, validacion y pruebas del modelo\n",
    "\n",
    "en este apartado revisaremos tres modelos donde iteraremos sobre diferentes valores."
   ]
  },
  {
   "cell_type": "code",
   "execution_count": 59,
   "metadata": {},
   "outputs": [
    {
     "name": "stdout",
     "output_type": "stream",
     "text": [
      "Accuracy del modelo de arbol de decision en el conjunto de entrenamiento: 0.97\n",
      "Accuracy del modelo de arbol de decision en el conjunto de validación: 0.845\n",
      "Accuracy del mejor modelo en el conjunto de validación (max_depth = 10): 0.97\n"
     ]
    }
   ],
   "source": [
    "## Arbol de decision. \n",
    "\n",
    "best_model = None\n",
    "best_result = 0\n",
    "best_depth = 0\n",
    "for depth in range(1,11):\n",
    "    model = DecisionTreeClassifier(random_state=0, max_depth=depth, class_weight='balanced')\n",
    "    model.fit(features_train,target_train)\n",
    "    predictions_val = model.predict(features_val)\n",
    "    result = model.score(features_train,target_train)\n",
    "    if result > best_result:\n",
    "        best_model = model\n",
    "        best_result = result\n",
    "        best_depth = depth\n",
    "\n",
    "# calcula la puntuación de accuracy en el conjunto de entrenamiento\n",
    "score_train = model.score(features_train,target_train) \n",
    "# calcula la puntuación de accuracy en el conjunto de validación\n",
    "score_val = model.score(features_val,target_val) \n",
    "\n",
    "print(\"Accuracy del modelo de arbol de decision en el conjunto de entrenamiento:\", score_train)\n",
    "print(\"Accuracy del modelo de arbol de decision en el conjunto de validación:\", score_val)\n",
    "\n",
    "print(f\"Accuracy del mejor modelo en el conjunto de validación (max_depth = {best_depth}): {best_result}\")"
   ]
  },
  {
   "cell_type": "code",
   "execution_count": 60,
   "metadata": {},
   "outputs": [
    {
     "name": "stdout",
     "output_type": "stream",
     "text": [
      "Accuracy del modelo de arbol aleatorio en el conjunto de entrenamiento: 0.9983333333333333\n",
      "Accuracy del modelo de arbol aleatorio en el conjunto de validación: 0.855\n",
      "Accuracy del mejor modelo en el conjunto de validación 0.9983333333333333 n_estimators: 40 best_depth: 10\n"
     ]
    }
   ],
   "source": [
    "## random forest\n",
    "\n",
    "best_rf_model = None\n",
    "best_rf_result = 0\n",
    "best_rf_est = 0\n",
    "best_rf_depth = 0\n",
    "for est in range(10, 51, 10):\n",
    "    for depth in range (1, 11):\n",
    "        model = RandomForestClassifier(max_depth=depth, random_state=0, n_estimators=est, class_weight='balanced')\n",
    "        model.fit(features_train,target_train)\n",
    "        predictions_val = model.predict(features_val)\n",
    "        result = model.score(features_train,target_train)\n",
    "        if result > best_rf_result:\n",
    "            best_rf_model = model\n",
    "            best_rf_result = result\n",
    "            best_rf_est = est\n",
    "            best_rf_depth = depth\n",
    "\n",
    "# calcula la puntuación de accuracy en el conjunto de entrenamiento\n",
    "score_train = best_rf_model.score(features_train,target_train) \n",
    "# calcula la puntuación de accuracy en el conjunto de validación\n",
    "score_val = best_rf_model.score(features_val,target_val) \n",
    "\n",
    "\n",
    "print(\"Accuracy del modelo de arbol aleatorio en el conjunto de entrenamiento:\", score_train)\n",
    "print(\"Accuracy del modelo de arbol aleatorio en el conjunto de validación:\", score_val)\n",
    "\n",
    "\n",
    "print(\"Accuracy del mejor modelo en el conjunto de validación\", best_rf_result, \"n_estimators:\", best_rf_est, \"best_depth:\", best_rf_depth)"
   ]
  },
  {
   "cell_type": "code",
   "execution_count": 61,
   "metadata": {},
   "outputs": [
    {
     "name": "stdout",
     "output_type": "stream",
     "text": [
      "Accuracy del modelo de regresion logistica en el conjunto de entrenamiento: 0.8433333333333334\n",
      "Accuracy del modelo de regresion logistica en el conjunto de validación: 0.835\n",
      "El modelo de regresion logistica nos da un ECM de: 0.406201920231798\n"
     ]
    }
   ],
   "source": [
    "# regresion logistica\n",
    "\n",
    "model = LogisticRegression(random_state=0, solver='liblinear',penalty='l1', class_weight='balanced')\n",
    "model.fit(features_train,target_train)\n",
    "predictions_val = model.predict(features_val)\n",
    "\n",
    "result = mean_squared_error(target_val, predictions_val)**0.5 \n",
    "\n",
    "# calcula la puntuación de accuracy en el conjunto de entrenamiento\n",
    "score_train = model.score(features_train,target_train) \n",
    "# calcula la puntuación de accuracy en el conjunto de validación\n",
    "score_val = model.score(features_val,target_val) \n",
    "\n",
    "print(\"Accuracy del modelo de regresion logistica en el conjunto de entrenamiento:\", score_train)\n",
    "print(\"Accuracy del modelo de regresion logistica en el conjunto de validación:\", score_val)\n",
    "\n",
    "print('El modelo de regresion logistica nos da un ECM de:',result)\n",
    "\n"
   ]
  },
  {
   "attachments": {},
   "cell_type": "markdown",
   "metadata": {},
   "source": [
    "### Metrica F1\n"
   ]
  },
  {
   "cell_type": "code",
   "execution_count": 62,
   "metadata": {},
   "outputs": [
    {
     "name": "stdout",
     "output_type": "stream",
     "text": [
      "F1: 0.7716535433070866\n"
     ]
    }
   ],
   "source": [
    "predicted_valid = best_rf_model.predict(features_val)\n",
    "\n",
    "\n",
    "print('F1:', f1_score(target_val, predicted_valid))"
   ]
  },
  {
   "attachments": {},
   "cell_type": "markdown",
   "metadata": {},
   "source": [
    "### Valores AUC-ROC"
   ]
  },
  {
   "cell_type": "code",
   "execution_count": 63,
   "metadata": {},
   "outputs": [
    {
     "data": {
      "image/png": "[encoded data removed]",
      "text/plain": [
       "<Figure size 640x480 with 1 Axes>"
      ]
     },
     "metadata": {},
     "output_type": "display_data"
    },
    {
     "name": "stdout",
     "output_type": "stream",
     "text": [
      "AUC-ROC: 0.9023626373626373\n"
     ]
    }
   ],
   "source": [
    "probabilities_valid = best_rf_model.predict_proba(features_val)\n",
    "probabilities_one_valid = probabilities_valid[:, 1]\n",
    "\n",
    "fpr, tpr, thresholds = roc_curve(target_val,probabilities_one_valid)\n",
    "\n",
    "plt.figure()\n",
    "# < traza la gráfica >\n",
    "plt.plot(fpr, tpr)\n",
    "# Curva ROC para modelo aleatorio (parece una línea recta)\n",
    "plt.plot([0, 1], [0, 1], linestyle='--')\n",
    "# < utiliza las funciones plt.xlim() y plt.ylim() para\n",
    "#   establecer el límite para los ejes de 0 a 1 >\n",
    "plt.xlim([0.0,1.0])\n",
    "plt.ylim([0.0,1.0])\n",
    "# < utiliza las funciones plt.xlabel() y plt.ylabel() para\n",
    "#   nombrar los ejes \"Tasa de falsos positivos\" y \"Tasa de verdaderos positivos\">\n",
    "plt.xlabel('Tasa de falsos positivos')\n",
    "plt.ylabel(\"Tasa de verdaderos positivos\")\n",
    "# < agrega el encabezado \"Curva ROC\" con la función plt.title() >\n",
    "plt.title('Curva ROC')\n",
    "plt.show()\n",
    "\n",
    "auc_roc = roc_auc_score(target_val,probabilities_one_valid)\n",
    "\n",
    "print('AUC-ROC:',auc_roc)"
   ]
  },
  {
   "attachments": {},
   "cell_type": "markdown",
   "metadata": {},
   "source": [
    "### R2\n",
    "\n",
    "R2 se calcula de la siguiente manera:\n",
    "\n",
    "$$R2 = 1 - ( Modelo ECM / Media ECM )$$\n",
    "\n",
    "- R2 es igual a uno solo si el valor Modelo ECM es cero. Dicho modelo predeciría perfectamente todas las respuestas.\n",
    "- R2 es cero: el modelo funciona tan bien como la media.\n",
    "- Cuando R2 es negativo, la calidad del modelo es muy baja.\n",
    "- R2 no puede tener valores mayores a uno."
   ]
  },
  {
   "cell_type": "code",
   "execution_count": 64,
   "metadata": {},
   "outputs": [
    {
     "name": "stdout",
     "output_type": "stream",
     "text": [
      "R2 = 0.3626373626373628\n",
      "CPU times: user 1.23 ms, sys: 51 µs, total: 1.28 ms\n",
      "Wall time: 270 µs\n"
     ]
    }
   ],
   "source": [
    "%%time\n",
    "print('R2 =', r2_score(target_val,predicted_valid))"
   ]
  }
 ],
 "metadata": {
  "kernelspec": {
   "display_name": "Python 3",
   "language": "python",
   "name": "python3"
  },
  "language_info": {
   "codemirror_mode": {
    "name": "ipython",
    "version": 3
   },
   "file_extension": ".py",
   "mimetype": "text/x-python",
   "name": "python",
   "nbconvert_exporter": "python",
   "pygments_lexer": "ipython3",
   "version": "3.10.2"
  },
  "orig_nbformat": 4
 },
 "nbformat": 4,
 "nbformat_minor": 2
}
