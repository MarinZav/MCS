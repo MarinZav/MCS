{
 "cells": [
  {
   "cell_type": "code",
   "execution_count": null,
   "metadata": {},
   "outputs": [],
   "source": []
  },
  {
   "cell_type": "code",
   "execution_count": 1,
   "metadata": {},
   "outputs": [
    {
     "ename": "KeyError",
     "evalue": "('job_title',)",
     "output_type": "error",
     "traceback": [
      "\u001b[0;31m---------------------------------------------------------------------------\u001b[0m",
      "\u001b[0;31mKeyError\u001b[0m                                  Traceback (most recent call last)",
      "File \u001b[0;32m/Library/Frameworks/Python.framework/Versions/3.10/lib/python3.10/site-packages/pandas/core/indexes/base.py:3803\u001b[0m, in \u001b[0;36mIndex.get_loc\u001b[0;34m(self, key, method, tolerance)\u001b[0m\n\u001b[1;32m   3802\u001b[0m \u001b[39mtry\u001b[39;00m:\n\u001b[0;32m-> 3803\u001b[0m     \u001b[39mreturn\u001b[39;00m \u001b[39mself\u001b[39;49m\u001b[39m.\u001b[39;49m_engine\u001b[39m.\u001b[39;49mget_loc(casted_key)\n\u001b[1;32m   3804\u001b[0m \u001b[39mexcept\u001b[39;00m \u001b[39mKeyError\u001b[39;00m \u001b[39mas\u001b[39;00m err:\n",
      "File \u001b[0;32m/Library/Frameworks/Python.framework/Versions/3.10/lib/python3.10/site-packages/pandas/_libs/index.pyx:138\u001b[0m, in \u001b[0;36mpandas._libs.index.IndexEngine.get_loc\u001b[0;34m()\u001b[0m\n",
      "File \u001b[0;32m/Library/Frameworks/Python.framework/Versions/3.10/lib/python3.10/site-packages/pandas/_libs/index.pyx:165\u001b[0m, in \u001b[0;36mpandas._libs.index.IndexEngine.get_loc\u001b[0;34m()\u001b[0m\n",
      "File \u001b[0;32mpandas/_libs/hashtable_class_helper.pxi:5745\u001b[0m, in \u001b[0;36mpandas._libs.hashtable.PyObjectHashTable.get_item\u001b[0;34m()\u001b[0m\n",
      "File \u001b[0;32mpandas/_libs/hashtable_class_helper.pxi:5753\u001b[0m, in \u001b[0;36mpandas._libs.hashtable.PyObjectHashTable.get_item\u001b[0;34m()\u001b[0m\n",
      "\u001b[0;31mKeyError\u001b[0m: ('job_title',)",
      "\nThe above exception was the direct cause of the following exception:\n",
      "\u001b[0;31mKeyError\u001b[0m                                  Traceback (most recent call last)",
      "\u001b[1;32mUntitled-1.ipynb Cell 2\u001b[0m in \u001b[0;36m4\n\u001b[1;32m     <a href='vscode-notebook-cell:Untitled-1.ipynb?jupyter-notebook#W1sdW50aXRsZWQ%3D?line=44'>45</a>\u001b[0m mindev \u001b[39m=\u001b[39m \u001b[39m0.2\u001b[39m\n\u001b[1;32m     <a href='vscode-notebook-cell:Untitled-1.ipynb?jupyter-notebook#W1sdW50aXRsZWQ%3D?line=46'>47</a>\u001b[0m \u001b[39m# Encontrar los conjuntos de contraste significativos\u001b[39;00m\n\u001b[0;32m---> <a href='vscode-notebook-cell:Untitled-1.ipynb?jupyter-notebook#W1sdW50aXRsZWQ%3D?line=47'>48</a>\u001b[0m significant_contrast_sets \u001b[39m=\u001b[39m find_significant_contrast_sets(data, groups, mindev)\n\u001b[1;32m     <a href='vscode-notebook-cell:Untitled-1.ipynb?jupyter-notebook#W1sdW50aXRsZWQ%3D?line=49'>50</a>\u001b[0m \u001b[39m# Imprimir los resultados\u001b[39;00m\n\u001b[1;32m     <a href='vscode-notebook-cell:Untitled-1.ipynb?jupyter-notebook#W1sdW50aXRsZWQ%3D?line=50'>51</a>\u001b[0m \u001b[39mprint\u001b[39m(\u001b[39m\"\u001b[39m\u001b[39mConjuntos de contraste significativos:\u001b[39m\u001b[39m\"\u001b[39m)\n",
      "\u001b[1;32mUntitled-1.ipynb Cell 2\u001b[0m in \u001b[0;36m2\n\u001b[1;32m     <a href='vscode-notebook-cell:Untitled-1.ipynb?jupyter-notebook#W1sdW50aXRsZWQ%3D?line=20'>21</a>\u001b[0m significant_contrast_sets \u001b[39m=\u001b[39m []\n\u001b[1;32m     <a href='vscode-notebook-cell:Untitled-1.ipynb?jupyter-notebook#W1sdW50aXRsZWQ%3D?line=21'>22</a>\u001b[0m \u001b[39mfor\u001b[39;00m contrast_set \u001b[39min\u001b[39;00m generate_contrast_sets(data\u001b[39m.\u001b[39mcolumns, data\u001b[39m.\u001b[39mvalues\u001b[39m.\u001b[39mT):\n\u001b[0;32m---> <a href='vscode-notebook-cell:Untitled-1.ipynb?jupyter-notebook#W1sdW50aXRsZWQ%3D?line=22'>23</a>\u001b[0m     supports \u001b[39m=\u001b[39m [calculate_support(group, contrast_set) \u001b[39mfor\u001b[39;00m group \u001b[39min\u001b[39;00m groups]\n\u001b[1;32m     <a href='vscode-notebook-cell:Untitled-1.ipynb?jupyter-notebook#W1sdW50aXRsZWQ%3D?line=23'>24</a>\u001b[0m     max_deviation \u001b[39m=\u001b[39m \u001b[39mmax\u001b[39m(supports) \u001b[39m-\u001b[39m \u001b[39mmin\u001b[39m(supports)\n\u001b[1;32m     <a href='vscode-notebook-cell:Untitled-1.ipynb?jupyter-notebook#W1sdW50aXRsZWQ%3D?line=24'>25</a>\u001b[0m     \u001b[39mif\u001b[39;00m max_deviation \u001b[39m>\u001b[39m\u001b[39m=\u001b[39m mindev:\n",
      "\u001b[1;32mUntitled-1.ipynb Cell 2\u001b[0m in \u001b[0;36m2\n\u001b[1;32m     <a href='vscode-notebook-cell:Untitled-1.ipynb?jupyter-notebook#W1sdW50aXRsZWQ%3D?line=20'>21</a>\u001b[0m significant_contrast_sets \u001b[39m=\u001b[39m []\n\u001b[1;32m     <a href='vscode-notebook-cell:Untitled-1.ipynb?jupyter-notebook#W1sdW50aXRsZWQ%3D?line=21'>22</a>\u001b[0m \u001b[39mfor\u001b[39;00m contrast_set \u001b[39min\u001b[39;00m generate_contrast_sets(data\u001b[39m.\u001b[39mcolumns, data\u001b[39m.\u001b[39mvalues\u001b[39m.\u001b[39mT):\n\u001b[0;32m---> <a href='vscode-notebook-cell:Untitled-1.ipynb?jupyter-notebook#W1sdW50aXRsZWQ%3D?line=22'>23</a>\u001b[0m     supports \u001b[39m=\u001b[39m [calculate_support(group, contrast_set) \u001b[39mfor\u001b[39;00m group \u001b[39min\u001b[39;00m groups]\n\u001b[1;32m     <a href='vscode-notebook-cell:Untitled-1.ipynb?jupyter-notebook#W1sdW50aXRsZWQ%3D?line=23'>24</a>\u001b[0m     max_deviation \u001b[39m=\u001b[39m \u001b[39mmax\u001b[39m(supports) \u001b[39m-\u001b[39m \u001b[39mmin\u001b[39m(supports)\n\u001b[1;32m     <a href='vscode-notebook-cell:Untitled-1.ipynb?jupyter-notebook#W1sdW50aXRsZWQ%3D?line=24'>25</a>\u001b[0m     \u001b[39mif\u001b[39;00m max_deviation \u001b[39m>\u001b[39m\u001b[39m=\u001b[39m mindev:\n",
      "\u001b[1;32mUntitled-1.ipynb Cell 2\u001b[0m in \u001b[0;36m1\n\u001b[1;32m     <a href='vscode-notebook-cell:Untitled-1.ipynb?jupyter-notebook#W1sdW50aXRsZWQ%3D?line=13'>14</a>\u001b[0m \u001b[39mdef\u001b[39;00m \u001b[39mcalculate_support\u001b[39m(group, contrast_set):\n\u001b[0;32m---> <a href='vscode-notebook-cell:Untitled-1.ipynb?jupyter-notebook#W1sdW50aXRsZWQ%3D?line=14'>15</a>\u001b[0m     filtered_data \u001b[39m=\u001b[39m group[group[\u001b[39mlist\u001b[39;49m(\u001b[39mzip\u001b[39;49m(\u001b[39m*\u001b[39;49mcontrast_set))[\u001b[39m0\u001b[39;49m]] \u001b[39m==\u001b[39m \u001b[39mlist\u001b[39m(\u001b[39mzip\u001b[39m(\u001b[39m*\u001b[39mcontrast_set))[\u001b[39m1\u001b[39m]]\n\u001b[1;32m     <a href='vscode-notebook-cell:Untitled-1.ipynb?jupyter-notebook#W1sdW50aXRsZWQ%3D?line=15'>16</a>\u001b[0m     support \u001b[39m=\u001b[39m \u001b[39mlen\u001b[39m(filtered_data) \u001b[39m/\u001b[39m \u001b[39mlen\u001b[39m(group)\n\u001b[1;32m     <a href='vscode-notebook-cell:Untitled-1.ipynb?jupyter-notebook#W1sdW50aXRsZWQ%3D?line=16'>17</a>\u001b[0m     \u001b[39mreturn\u001b[39;00m support\n",
      "File \u001b[0;32m/Library/Frameworks/Python.framework/Versions/3.10/lib/python3.10/site-packages/pandas/core/frame.py:3804\u001b[0m, in \u001b[0;36mDataFrame.__getitem__\u001b[0;34m(self, key)\u001b[0m\n\u001b[1;32m   3802\u001b[0m \u001b[39mif\u001b[39;00m \u001b[39mself\u001b[39m\u001b[39m.\u001b[39mcolumns\u001b[39m.\u001b[39mnlevels \u001b[39m>\u001b[39m \u001b[39m1\u001b[39m:\n\u001b[1;32m   3803\u001b[0m     \u001b[39mreturn\u001b[39;00m \u001b[39mself\u001b[39m\u001b[39m.\u001b[39m_getitem_multilevel(key)\n\u001b[0;32m-> 3804\u001b[0m indexer \u001b[39m=\u001b[39m \u001b[39mself\u001b[39;49m\u001b[39m.\u001b[39;49mcolumns\u001b[39m.\u001b[39;49mget_loc(key)\n\u001b[1;32m   3805\u001b[0m \u001b[39mif\u001b[39;00m is_integer(indexer):\n\u001b[1;32m   3806\u001b[0m     indexer \u001b[39m=\u001b[39m [indexer]\n",
      "File \u001b[0;32m/Library/Frameworks/Python.framework/Versions/3.10/lib/python3.10/site-packages/pandas/core/indexes/base.py:3805\u001b[0m, in \u001b[0;36mIndex.get_loc\u001b[0;34m(self, key, method, tolerance)\u001b[0m\n\u001b[1;32m   3803\u001b[0m     \u001b[39mreturn\u001b[39;00m \u001b[39mself\u001b[39m\u001b[39m.\u001b[39m_engine\u001b[39m.\u001b[39mget_loc(casted_key)\n\u001b[1;32m   3804\u001b[0m \u001b[39mexcept\u001b[39;00m \u001b[39mKeyError\u001b[39;00m \u001b[39mas\u001b[39;00m err:\n\u001b[0;32m-> 3805\u001b[0m     \u001b[39mraise\u001b[39;00m \u001b[39mKeyError\u001b[39;00m(key) \u001b[39mfrom\u001b[39;00m \u001b[39merr\u001b[39;00m\n\u001b[1;32m   3806\u001b[0m \u001b[39mexcept\u001b[39;00m \u001b[39mTypeError\u001b[39;00m:\n\u001b[1;32m   3807\u001b[0m     \u001b[39m# If we have a listlike key, _check_indexing_error will raise\u001b[39;00m\n\u001b[1;32m   3808\u001b[0m     \u001b[39m#  InvalidIndexError. Otherwise we fall through and re-raise\u001b[39;00m\n\u001b[1;32m   3809\u001b[0m     \u001b[39m#  the TypeError.\u001b[39;00m\n\u001b[1;32m   3810\u001b[0m     \u001b[39mself\u001b[39m\u001b[39m.\u001b[39m_check_indexing_error(key)\n",
      "\u001b[0;31mKeyError\u001b[0m: ('job_title',)"
     ]
    }
   ],
   "source": [
    "# Importar las bibliotecas necesarias\n",
    "import pandas as pd\n",
    "import itertools\n",
    "\n",
    "# Definir la función para generar los conjuntos de contraste\n",
    "def generate_contrast_sets(attributes, values):\n",
    "    contrast_sets = []\n",
    "    for r in range(1, len(attributes) + 1):\n",
    "        combinations = itertools.combinations(zip(attributes, values), r)\n",
    "        contrast_sets.extend(combinations)\n",
    "    return contrast_sets\n",
    "\n",
    "# Definir la función para calcular el soporte de un conjunto de contraste en un grupo\n",
    "def calculate_support(group, contrast_set):\n",
    "    filtered_data = group[group[list(zip(*contrast_set))[0]] == list(zip(*contrast_set))[1]]\n",
    "    support = len(filtered_data) / len(group)\n",
    "    return support\n",
    "\n",
    "# Definir la función para encontrar los conjuntos de contraste significativos\n",
    "def find_significant_contrast_sets(data, groups, mindev):\n",
    "    significant_contrast_sets = []\n",
    "    for contrast_set in generate_contrast_sets(data.columns, data.values.T):\n",
    "        supports = [calculate_support(group, contrast_set) for group in groups]\n",
    "        max_deviation = max(supports) - min(supports)\n",
    "        if max_deviation >= mindev:\n",
    "            significant_contrast_sets.append((contrast_set, supports))\n",
    "    return significant_contrast_sets\n",
    "\n",
    "# Datos de ejemplo\n",
    "data = pd.DataFrame({\n",
    "    'job_title': ['Graphic Designer', 'Software Engineer', 'Warehouse Associate', 'Software Engineer', 'Graphic Designer'],\n",
    "    'gender': ['Female', 'Male', 'Female', 'Male', 'Male'],\n",
    "    'perf_eval': [5, 5, 4, 5, 5],\n",
    "    'edu': ['College', 'College', 'PhD', 'Masters', 'Masters'],\n",
    "    'dept': ['Operations', 'Management', 'Administration', 'Sales', 'Engineering'],\n",
    "    'seniority': [2, 5, 5, 4, 5],\n",
    "    'total_salary_range': ['40,000-80,000', '80,001-120,000', '80,001-120,000', '80,001-120,000', '80,001-120,000'],\n",
    "    'age_group': ['0-19', '20-39', '0-19', '20-39', '20-39']\n",
    "})\n",
    "\n",
    "# Definir los grupos\n",
    "groups = [data[data['gender'] == 'Male'], data[data['gender'] == 'Female']]\n",
    "\n",
    "# Parámetros\n",
    "mindev = 0.2\n",
    "\n",
    "# Encontrar los conjuntos de contraste significativos\n",
    "significant_contrast_sets = find_significant_contrast_sets(data, groups, mindev)\n",
    "\n",
    "# Imprimir los resultados\n",
    "print(\"Conjuntos de contraste significativos:\")\n",
    "for contrast_set, supports in significant_contrast_sets:\n",
    "    print(\"Contraste-Set:\", contrast_set)\n",
    "    for group, support in zip(groups, supports):\n",
    "        print(\"Grupo:\", group['gender'].unique()[0], \"Soporte:\", support)\n",
    "    print()\n"
   ]
  }
 ],
 "metadata": {
  "kernelspec": {
   "display_name": "Python 3",
   "language": "python",
   "name": "python3"
  },
  "language_info": {
   "codemirror_mode": {
    "name": "ipython",
    "version": 3
   },
   "file_extension": ".py",
   "mimetype": "text/x-python",
   "name": "python",
   "nbconvert_exporter": "python",
   "pygments_lexer": "ipython3",
   "version": "3.10.2"
  },
  "orig_nbformat": 4
 },
 "nbformat": 4,
 "nbformat_minor": 2
}
