{
 "cells": [
  {
   "cell_type": "code",
   "execution_count": 2,
   "metadata": {},
   "outputs": [
    {
     "name": "stdout",
     "output_type": "stream",
     "text": [
      "Conjuntos de contraste:\n",
      "{'Verde', 'Rojo'}\n",
      "{'Verde', 'Azul'}\n",
      "{'Verde', 'Rojo'}\n",
      "{'Azul', 'Rojo'}\n",
      "{'Azul', 'Verde'}\n",
      "{'Azul', 'Rojo'}\n"
     ]
    }
   ],
   "source": [
    "import pandas as pd\n",
    "\n",
    "# Crea dos conjuntos de datos categóricos A y B\n",
    "df_A = pd.DataFrame({'Colores': ['Rojo', 'Verde', 'Azul', 'Negro'], 'Frecuencia': [10, 20, 30, 40]})\n",
    "df_B = pd.DataFrame({'Colores': ['Rojo', 'Verde', 'Azul'], 'Frecuencia': [10, 15, 35]})\n",
    "\n",
    "# Encuentra todas las categorías presentes en ambos conjuntos de datos\n",
    "categories = set(df_A['Colores']).intersection(set(df_B['Colores']))\n",
    "\n",
    "# Crea un diccionario que mapea cada categoría a su frecuencia en ambos conjuntos de datos\n",
    "freq = {}\n",
    "for c in categories:\n",
    "    freq_A = df_A[df_A['Colores']==c]['Frecuencia'].values\n",
    "    freq_B = df_B[df_B['Colores']==c]['Frecuencia'].values\n",
    "    if len(freq_A) > 0 and len(freq_B) > 0:\n",
    "        freq[c] = [freq_A[0], freq_B[0]]\n",
    "\n",
    "# Crea una lista de conjuntos de contraste a partir del diccionario de frecuencias\n",
    "contrast_sets = []\n",
    "for c in freq.keys():\n",
    "    if c in contrast_sets:\n",
    "        continue\n",
    "    for c2 in freq.keys():\n",
    "        if c == c2 or c2 in contrast_sets:\n",
    "            continue\n",
    "        if freq[c][0] != freq[c2][0] or freq[c][1] != freq[c2][1]:\n",
    "            contrast_sets.append(set([c, c2]))\n",
    "\n",
    "# Imprime los conjuntos de contraste resultantes\n",
    "print(\"Conjuntos de contraste:\")\n",
    "for s in contrast_sets:\n",
    "    print(s)\n",
    "\n",
    "\n"
   ]
  },
  {
   "cell_type": "code",
   "execution_count": 2,
   "metadata": {},
   "outputs": [
    {
     "name": "stdout",
     "output_type": "stream",
     "text": [
      "Conjuntos de contraste:\n",
      "('Edad', 'Puesto')\n",
      "('Edad', 'Salario')\n",
      "('Edad', 'Antigüedad')\n",
      "('Puesto', 'Salario')\n",
      "('Puesto', 'Antigüedad')\n",
      "('Salario', 'Antigüedad')\n"
     ]
    }
   ],
   "source": [
    "import pandas as pd\n",
    "\n",
    "# Crea un DataFrame con las columnas 'Edad', 'Puesto', 'Salario' y 'Antigüedad'\n",
    "df = pd.DataFrame({\n",
    "    'Edad': [25, 30, 35, 40],\n",
    "    'Puesto': ['Gerente', 'Analista', 'Ejecutivo', 'Analista'],\n",
    "    'Salario': [50000, 60000, 70000, 60000],\n",
    "    'Antigüedad': [2, 4, 3, 5]\n",
    "})\n",
    "\n",
    "# Encuentra todas las categorías presentes en cada columna\n",
    "categories = {}\n",
    "for col in df.columns:\n",
    "    categories[col] = set(df[col])\n",
    "\n",
    "# Crea una lista de conjuntos de contraste\n",
    "contrast_sets = []\n",
    "for col in categories.keys():\n",
    "    for col2 in categories.keys():\n",
    "        if col == col2 or (col2, col) in contrast_sets:\n",
    "            continue\n",
    "        if df[col].nunique() > 1 and df[col2].nunique() > 1:\n",
    "            contrast_sets.append((col, col2))\n",
    "\n",
    "# Imprime los conjuntos de contraste resultantes\n",
    "print(\"Conjuntos de contraste:\")\n",
    "for s in contrast_sets:\n",
    "    print(s)\n"
   ]
  },
  {
   "cell_type": "code",
   "execution_count": 4,
   "metadata": {},
   "outputs": [
    {
     "name": "stdout",
     "output_type": "stream",
     "text": [
      "Conjuntos de contraste:\n",
      "(30, 'Analista')\n",
      "(25, 'Gerente')\n",
      "(35, 'Ejecutivo')\n",
      "(40, 'Analista')\n",
      "(40, 60000)\n",
      "(35, 70000)\n",
      "(30, 60000)\n",
      "(25, 50000)\n",
      "(30, 4)\n",
      "(35, 3)\n",
      "(40, 5)\n",
      "(25, 2)\n",
      "('Analista', 60000)\n",
      "('Gerente', 50000)\n",
      "('Ejecutivo', 70000)\n",
      "('Ejecutivo', 3)\n",
      "('Gerente', 2)\n",
      "('Analista', 5)\n",
      "('Analista', 4)\n",
      "(70000, 3)\n",
      "(60000, 4)\n",
      "(60000, 5)\n",
      "(50000, 2)\n"
     ]
    }
   ],
   "source": [
    "import pandas as pd\n",
    "import itertools\n",
    "\n",
    "# Crea un DataFrame con las columnas 'Edad', 'Puesto', 'Salario' y 'Antigüedad'\n",
    "df = pd.DataFrame({\n",
    "    'Edad': [25, 30, 35, 40],\n",
    "    'Puesto': ['Gerente', 'Analista', 'Ejecutivo', 'Analista'],\n",
    "    'Salario': [50000, 60000, 70000, 60000],\n",
    "    'Antigüedad': [2, 4, 3, 5]\n",
    "})\n",
    "\n",
    "# Crea una lista de todas las combinaciones posibles de dos columnas\n",
    "column_pairs = list(itertools.combinations(df.columns, 2))\n",
    "\n",
    "# Crea una lista de conjuntos de contraste con pares de valores\n",
    "contrast_sets = []\n",
    "for pair in column_pairs:\n",
    "    values = set(zip(df[pair[0]], df[pair[1]]))\n",
    "    for value in values:\n",
    "        contrast_sets.append(value)\n",
    "\n",
    "# Imprime los conjuntos de contraste resultantes\n",
    "print(\"Conjuntos de contraste:\")\n",
    "for s in contrast_sets:\n",
    "    print(s)\n"
   ]
  },
  {
   "cell_type": "code",
   "execution_count": 4,
   "metadata": {},
   "outputs": [
    {
     "name": "stdout",
     "output_type": "stream",
     "text": [
      "       Frecuencia A  Frecuencia B  Proporción A  Proporción B\n",
      "Verde            20             5      0.333333      0.071429\n",
      "Rojo             10            20      0.166667      0.285714\n",
      "Azul             15            10      0.250000      0.142857\n"
     ]
    }
   ],
   "source": [
    "# Crea un diccionario que mapea cada categoría a su frecuencia en ambos conjuntos de datos\n",
    "freq = {}\n",
    "for c in categories:\n",
    "    freq_A = df_A[df_A['Colores']==c]['Frecuencia'].values\n",
    "    freq_B = df_B[df_B['Colores']==c]['Frecuencia'].values\n",
    "    if len(freq_A) > 0 and len(freq_B) > 0:\n",
    "        freq[c] = [freq_A[0], freq_B[0]]\n",
    "\n",
    "# Crea un dataframe a partir del diccionario de frecuencias\n",
    "df_freq = pd.DataFrame.from_dict(freq, orient='index', columns=['Frecuencia A', 'Frecuencia B'])\n",
    "\n",
    "# Calcula la proporción de la frecuencia de cada categoría en ambos conjuntos de datos\n",
    "df_freq['Proporción A'] = df_freq['Frecuencia A'] / df_A['Frecuencia'].sum()\n",
    "df_freq['Proporción B'] = df_freq['Frecuencia B'] / df_B['Frecuencia'].sum()\n",
    "\n",
    "# Imprime el dataframe\n",
    "print(df_freq)\n"
   ]
  },
  {
   "cell_type": "code",
   "execution_count": 5,
   "metadata": {},
   "outputs": [
    {
     "name": "stdout",
     "output_type": "stream",
     "text": [
      "                   Probabilidad\n",
      "{'Verde', 'Rojo'}      0.178571\n",
      "{'Azul', 'Rojo'}       0.178571\n",
      "{'Verde', 'Azul'}      0.125000\n",
      "{'Azul', 'Verde'}      0.125000\n"
     ]
    }
   ],
   "source": [
    "# Crea un diccionario que mapea cada categoría a su frecuencia en ambos conjuntos de datos\n",
    "freq = {}\n",
    "for c in categories:\n",
    "    freq_A = df_A[df_A['Colores']==c]['Frecuencia'].values\n",
    "    freq_B = df_B[df_B['Colores']==c]['Frecuencia'].values\n",
    "    if len(freq_A) > 0 and len(freq_B) > 0:\n",
    "        freq[c] = [freq_A[0], freq_B[0]]\n",
    "\n",
    "# Crea una lista de conjuntos de contraste a partir del diccionario de frecuencias\n",
    "contrast_sets = []\n",
    "for c in freq.keys():\n",
    "    if c in contrast_sets:\n",
    "        continue\n",
    "    for c2 in freq.keys():\n",
    "        if c == c2 or c2 in contrast_sets:\n",
    "            continue\n",
    "        if freq[c][0] != freq[c2][0] or freq[c][1] != freq[c2][1]:\n",
    "            contrast_sets.append(set([c, c2]))\n",
    "\n",
    "# Crea un diccionario que mapea cada set de contraste a su probabilidad\n",
    "contrast_prob = {}\n",
    "for s in contrast_sets:\n",
    "    prob_A = sum([freq[c][0] for c in s]) / df_A['Frecuencia'].sum()\n",
    "    prob_B = sum([freq[c][1] for c in s]) / df_B['Frecuencia'].sum()\n",
    "    contrast_prob[str(s)] = prob_A * prob_B\n",
    "\n",
    "# Crea un dataframe a partir del diccionario de probabilidades de sets de contraste\n",
    "df_contrast_prob = pd.DataFrame.from_dict(contrast_prob, orient='index', columns=['Probabilidad'])\n",
    "\n",
    "# Ordena el dataframe por probabilidad descendente\n",
    "df_contrast_prob = df_contrast_prob.sort_values(by='Probabilidad', ascending=False)\n",
    "\n",
    "# Imprime el dataframe\n",
    "print(df_contrast_prob)\n"
   ]
  },
  {
   "cell_type": "code",
   "execution_count": 6,
   "metadata": {},
   "outputs": [
    {
     "name": "stdout",
     "output_type": "stream",
     "text": [
      "                   Probabilidad      Chi2   p-valor\n",
      "{'Verde', 'Rojo'}      0.178571  10.16950  0.001428\n",
      "{'Azul', 'Rojo'}       0.178571   2.90950  0.088059\n",
      "{'Verde', 'Azul'}      0.125000   1.52381  0.217044\n",
      "{'Azul', 'Verde'}      0.125000   1.52381  0.217044\n"
     ]
    }
   ],
   "source": [
    "from scipy.stats import chi2_contingency\n",
    "\n",
    "# Crea un diccionario que mapea cada categoría a su frecuencia en ambos conjuntos de datos\n",
    "freq = {}\n",
    "for c in categories:\n",
    "    freq_A = df_A[df_A['Colores']==c]['Frecuencia'].values\n",
    "    freq_B = df_B[df_B['Colores']==c]['Frecuencia'].values\n",
    "    if len(freq_A) > 0 and len(freq_B) > 0:\n",
    "        freq[c] = [freq_A[0], freq_B[0]]\n",
    "\n",
    "# Crea una lista de conjuntos de contraste a partir del diccionario de frecuencias\n",
    "contrast_sets = []\n",
    "for c in freq.keys():\n",
    "    if c in contrast_sets:\n",
    "        continue\n",
    "    for c2 in freq.keys():\n",
    "        if c == c2 or c2 in contrast_sets:\n",
    "            continue\n",
    "        if freq[c][0] != freq[c2][0] or freq[c][1] != freq[c2][1]:\n",
    "            contrast_sets.append(set([c, c2]))\n",
    "\n",
    "# Crea un diccionario que mapea cada set de contraste a su probabilidad y chi2\n",
    "contrast_prob_chi2 = {}\n",
    "for s in contrast_sets:\n",
    "    freq_set = [[freq[c][0] for c in s], [freq[c][1] for c in s]]\n",
    "    chi2, p, _, _ = chi2_contingency(freq_set)\n",
    "    prob_A = sum(freq_set[0]) / df_A['Frecuencia'].sum()\n",
    "    prob_B = sum(freq_set[1]) / df_B['Frecuencia'].sum()\n",
    "    contrast_prob_chi2[str(s)] = {'Probabilidad': prob_A * prob_B, 'Chi2': chi2, 'p-valor': p}\n",
    "\n",
    "# Crea un dataframe a partir del diccionario de probabilidades de sets de contraste y chi2\n",
    "df_contrast_prob_chi2 = pd.DataFrame.from_dict(contrast_prob_chi2, orient='index')\n",
    "\n",
    "# Ordena el dataframe por probabilidad descendente\n",
    "df_contrast_prob_chi2 = df_contrast_prob_chi2.sort_values(by='Probabilidad', ascending=False)\n",
    "\n",
    "# Imprime el dataframe\n",
    "print(df_contrast_prob_chi2)\n"
   ]
  }
 ],
 "metadata": {
  "kernelspec": {
   "display_name": "Python 3",
   "language": "python",
   "name": "python3"
  },
  "language_info": {
   "codemirror_mode": {
    "name": "ipython",
    "version": 3
   },
   "file_extension": ".py",
   "mimetype": "text/x-python",
   "name": "python",
   "nbconvert_exporter": "python",
   "pygments_lexer": "ipython3",
   "version": "3.10.2"
  },
  "orig_nbformat": 4
 },
 "nbformat": 4,
 "nbformat_minor": 2
}
