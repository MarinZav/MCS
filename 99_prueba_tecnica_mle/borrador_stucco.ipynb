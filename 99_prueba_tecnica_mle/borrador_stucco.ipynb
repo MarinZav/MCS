{
 "cells": [
  {
   "cell_type": "code",
   "execution_count": null,
   "metadata": {},
   "outputs": [],
   "source": []
  },
  {
   "cell_type": "code",
   "execution_count": null,
   "metadata": {},
   "outputs": [],
   "source": [
    "import pandas as pd\n",
    "import itertools\n",
    "\n",
    "# Crea un DataFrame con las columnas 'Edad', 'Puesto', 'Salario' y 'Antigüedad'\n",
    "df = pd.DataFrame({\n",
    "    'Edad': [25, 30, 35, 40],\n",
    "    'Puesto': ['Gerente', 'Analista', 'Ejecutivo', 'Analista'],\n",
    "    'Salario': [50000, 60000, 70000, 60000],\n",
    "    'Antigüedad': [2, 4, 3, 5]\n",
    "})\n",
    "\n",
    "# Crea una lista de todas las combinaciones posibles de dos columnas\n",
    "column_pairs = list(itertools.combinations(df.columns, 2))\n",
    "\n",
    "# Crea una lista de conjuntos de contraste con pares de valores\n",
    "contrast_sets = []\n",
    "for pair in column_pairs:\n",
    "    values = set(zip(df[pair[0]], df[pair[1]]))\n",
    "    for value in values:\n",
    "        contrast_sets.append(value)\n",
    "\n",
    "# Imprime los conjuntos de contraste resultantes\n",
    "print(\"Conjuntos de contraste:\")\n",
    "for s in contrast_sets:\n",
    "    print(s)"
   ]
  }
 ],
 "metadata": {
  "kernelspec": {
   "display_name": "Python 3",
   "language": "python",
   "name": "python3"
  },
  "language_info": {
   "name": "python",
   "version": "3.10.2"
  },
  "orig_nbformat": 4
 },
 "nbformat": 4,
 "nbformat_minor": 2
}
